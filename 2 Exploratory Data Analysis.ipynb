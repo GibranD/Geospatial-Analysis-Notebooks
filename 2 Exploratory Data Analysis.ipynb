{
 "cells": [
  {
   "cell_type": "markdown",
   "metadata": {
    "slideshow": {
     "slide_type": "slide"
    }
   },
   "source": [
    "# Exploratory Data Analysis\n",
    "\n",
    "This notebook introduces you to exploratory data analysis using the [pandas](https://pandas.pydata.org) library. Pandas is not specific to geospatial data, so what we do here can be applied to pretty much any dataset you encounter.\n",
    "\n",
    "![pandas logo](https://pandas.pydata.org/pandas-docs/stable/_static/pandas.svg)\n",
    "\n",
    "As a quick intro, we reommend [10 minutes to pandas](https://pandas.pydata.org/docs/getting_started/10min.html#min). This notebook will point you to the relevant sections of the [pandas user guide](https://pandas.pydata.org/docs/user_guide/index.html), which is generally a great resource whenever you need documentation about a pandas feature.\n",
    "\n",
    "Let's get started by loading pandas:"
   ]
  },
  {
   "cell_type": "code",
   "execution_count": 1,
   "metadata": {
    "slideshow": {
     "slide_type": "subslide"
    }
   },
   "outputs": [],
   "source": [
    "import pandas as pd"
   ]
  },
  {
   "cell_type": "markdown",
   "metadata": {},
   "source": [
    "### Loading data\n",
    "\n",
    "Load some traffic accident data directly from the web ([NYC Crash Mapper](http://crashmapper.org/#/?cfat=true&cinj=true&endDate=2019-03&geo=citywide&identifier=&lngLats=%255B%255D&mfat=true&minj=true&noInjFat=false&pfat=true&pinj=true&startDate=2018-03)):"
   ]
  },
  {
   "cell_type": "code",
   "execution_count": 2,
   "metadata": {},
   "outputs": [],
   "source": [
    "url=\"https://chekpeds.carto.com/api/v2/sql?q=SELECT%20c.cartodb_id%2C%20c.socrata_id%2C%20c.the_geom%2C%20c.on_street_name%2C%20c.cross_street_name%2C%20c.date_val%20AS%20date_time%2C%20c.latitude%2C%20c.longitude%2C%20c.borough%2C%20c.zip_code%2C%20c.crash_count%2C%20c.number_of_cyclist_injured%2C%20c.number_of_cyclist_killed%2C%20c.number_of_motorist_injured%2C%20c.number_of_motorist_killed%2C%20c.number_of_pedestrian_injured%2C%20c.number_of_pedestrian_killed%2C%20c.number_of_persons_injured%2C%20c.number_of_persons_killed%2C%20array_to_string(c.contributing_factor%2C%20%27%2C%27)%20as%20contributing_factors%2C%20array_to_string(c.vehicle_type%2C%20%27%2C%27)%20as%20vehicle_types%20FROM%20crashes_all_prod%20c%20%20WHERE%20(%20year%3A%3Atext%20%7C%7C%20LPAD(month%3A%3Atext%2C%202%2C%20%270%27)%20%3C%3D%20%272019%27%20%7C%7C%20LPAD(3%3A%3Atext%2C%202%2C%20%270%27)%20)%20AND%20(%20year%3A%3Atext%20%7C%7C%20LPAD(month%3A%3Atext%2C%202%2C%20%270%27)%20%3E%3D%20%272018%27%20%7C%7C%20LPAD(3%3A%3Atext%2C%202%2C%20%270%27)%20)%20%20AND%20(%20number_of_cyclist_injured%20%3E%200%20OR%20number_of_motorist_injured%20%3E%200%20OR%20number_of_pedestrian_injured%20%3E%200%20%20OR%20%20number_of_cyclist_killed%20%3E%200%20OR%20number_of_motorist_killed%20%3E%200%20OR%20number_of_pedestrian_killed%20%3E%200%20)&format=CSV\"\n",
    "accidents = pd.read_csv(url)"
   ]
  },
  {
   "cell_type": "markdown",
   "metadata": {},
   "source": [
    "This creates a [dataframe](https://pandas.pydata.org/pandas-docs/stable/getting_started/dsintro.html#dataframe), let's take a glimpse:"
   ]
  },
  {
   "cell_type": "code",
   "execution_count": 3,
   "metadata": {},
   "outputs": [
    {
     "output_type": "execute_result",
     "data": {
      "text/plain": "                                                the_geom  cartodb_id  \\\n0      0101000020E61000001092054CE07E52C09FAD8383BD55...     2413283   \n1      0101000020E610000045D8F0F44A7D52C07B4963B48E66...     2449473   \n2      0101000020E61000005166834C327C52C091D26C1E8765...     2333947   \n3      0101000020E61000004B766C04E27752C08505F7031E60...     2470114   \n4                                                    NaN     2435640   \n...                                                  ...         ...   \n48891  0101000020E6100000E2E47E87A27252C0D89AADBCE459...     2271406   \n48892  0101000020E6100000EB8B84B69C7952C0AFB0E07EC055...     2258539   \n48893  0101000020E6100000116F9D7FBB7A52C0B875374F7568...     2410846   \n48894  0101000020E6100000D595CFF23C7052C039622D3E054E...     2258839   \n48895  0101000020E610000097CADB114E7352C036E50AEF7265...     2409756   \n\n       socrata_id       on_street_name cross_street_name  \\\n0         4069947             6 AVENUE               NaN   \n1         4026726      WEST 111 STREET               NaN   \n2         3944536      EAST 110 STREET               NaN   \n3         4079675            37 AVENUE               NaN   \n4         4052363   MANHATTAN BR LOWER               NaN   \n...           ...                  ...               ...   \n48891     3886527       LIBERTY AVENUE               NaN   \n48892     3870330       BELMONT AVENUE               NaN   \n48893     4018846      EAST 149 STREET               NaN   \n48894     3870254  BEACH CHANNEL DRIVE               NaN   \n48895     4018174           160 STREET               NaN   \n\n                    date_time   latitude  longitude    borough  zip_code  ...  \\\n0      2019-01-27 18:15:00+00  40.669846 -73.982440   Brooklyn   11215.0  ...   \n1      2018-11-11 15:20:00+00  40.801230 -73.957700  Manhattan   10026.0  ...   \n2      2018-07-19 04:39:00+00  40.793186 -73.940570  Manhattan       NaN  ...   \n3      2019-02-12 13:10:00+00  40.750916 -73.873170     Queens   11372.0  ...   \n4      2018-12-17 07:43:00+00        NaN        NaN        NaN       NaN  ...   \n...                       ...        ...        ...        ...       ...  ...   \n48891  2018-04-21 21:22:00+00  40.702293 -73.791170     Queens       NaN  ...   \n48892  2018-03-24 15:10:00+00  40.669937 -73.900190   Brooklyn   11207.0  ...   \n48893  2018-11-09 17:00:00+00  40.816080 -73.917694      Bronx   10455.0  ...   \n48894  2018-03-25 16:20:00+00  40.609535 -73.753720     Queens   11691.0  ...   \n48895  2018-11-10 00:30:00+00  40.792570 -73.801640     Queens   11357.0  ...   \n\n       number_of_cyclist_injured  number_of_cyclist_killed  \\\n0                              1                         0   \n1                              1                         0   \n2                              0                         0   \n3                              0                         0   \n4                              0                         0   \n...                          ...                       ...   \n48891                          1                         0   \n48892                          0                         0   \n48893                          0                         0   \n48894                          0                         0   \n48895                          0                         0   \n\n       number_of_motorist_injured  number_of_motorist_killed  \\\n0                               0                          0   \n1                               0                          0   \n2                               1                          1   \n3                               1                          0   \n4                               1                          0   \n...                           ...                        ...   \n48891                           0                          0   \n48892                           2                          0   \n48893                           0                          0   \n48894                           1                          0   \n48895                           2                          0   \n\n       number_of_pedestrian_injured  number_of_pedestrian_killed  \\\n0                                 0                            0   \n1                                 0                            0   \n2                                 0                            0   \n3                                 0                            0   \n4                                 0                            0   \n...                             ...                          ...   \n48891                             0                            0   \n48892                             0                            0   \n48893                             1                            0   \n48894                             0                            0   \n48895                             0                            0   \n\n       number_of_persons_injured  number_of_persons_killed  \\\n0                              1                         0   \n1                              1                         0   \n2                              1                         1   \n3                              1                         0   \n4                              1                         0   \n...                          ...                       ...   \n48891                          1                         0   \n48892                          2                         0   \n48893                          1                         0   \n48894                          1                         0   \n48895                          2                         0   \n\n                                    contributing_factors  \\\n0                                            Unspecified   \n1                                Unspecified,Unspecified   \n2                                           Unsafe Speed   \n3       Pavement Slippery,Driver Inattention/Distraction   \n4                         Driver Inattention/Distraction   \n...                                                  ...   \n48891                    Alcohol Involvement,Unspecified   \n48892          Failure to Yield Right-of-Way,Unspecified   \n48893                                        Unspecified   \n48894  Driver Inattention/Distraction,Driver Inattent...   \n48895            Traffic Control Disregarded,Unspecified   \n\n                                         vehicle_types  \n0                                                 Bike  \n1                                           Sedan,Bike  \n2                                           Motorcycle  \n3                                          Sedan,Sedan  \n4                                                Sedan  \n...                                                ...  \n48891                            PICK-UP TRUCK,BICYCLE  \n48892               TAXI,SPORT UTILITY / STATION WAGON  \n48893                                            Sedan  \n48894  PASSENGER VEHICLE,SPORT UTILITY / STATION WAGON  \n48895                                            Sedan  \n\n[48896 rows x 21 columns]",
      "text/html": "<div>\n<style scoped>\n    .dataframe tbody tr th:only-of-type {\n        vertical-align: middle;\n    }\n\n    .dataframe tbody tr th {\n        vertical-align: top;\n    }\n\n    .dataframe thead th {\n        text-align: right;\n    }\n</style>\n<table border=\"1\" class=\"dataframe\">\n  <thead>\n    <tr style=\"text-align: right;\">\n      <th></th>\n      <th>the_geom</th>\n      <th>cartodb_id</th>\n      <th>socrata_id</th>\n      <th>on_street_name</th>\n      <th>cross_street_name</th>\n      <th>date_time</th>\n      <th>latitude</th>\n      <th>longitude</th>\n      <th>borough</th>\n      <th>zip_code</th>\n      <th>...</th>\n      <th>number_of_cyclist_injured</th>\n      <th>number_of_cyclist_killed</th>\n      <th>number_of_motorist_injured</th>\n      <th>number_of_motorist_killed</th>\n      <th>number_of_pedestrian_injured</th>\n      <th>number_of_pedestrian_killed</th>\n      <th>number_of_persons_injured</th>\n      <th>number_of_persons_killed</th>\n      <th>contributing_factors</th>\n      <th>vehicle_types</th>\n    </tr>\n  </thead>\n  <tbody>\n    <tr>\n      <th>0</th>\n      <td>0101000020E61000001092054CE07E52C09FAD8383BD55...</td>\n      <td>2413283</td>\n      <td>4069947</td>\n      <td>6 AVENUE</td>\n      <td>NaN</td>\n      <td>2019-01-27 18:15:00+00</td>\n      <td>40.669846</td>\n      <td>-73.982440</td>\n      <td>Brooklyn</td>\n      <td>11215.0</td>\n      <td>...</td>\n      <td>1</td>\n      <td>0</td>\n      <td>0</td>\n      <td>0</td>\n      <td>0</td>\n      <td>0</td>\n      <td>1</td>\n      <td>0</td>\n      <td>Unspecified</td>\n      <td>Bike</td>\n    </tr>\n    <tr>\n      <th>1</th>\n      <td>0101000020E610000045D8F0F44A7D52C07B4963B48E66...</td>\n      <td>2449473</td>\n      <td>4026726</td>\n      <td>WEST 111 STREET</td>\n      <td>NaN</td>\n      <td>2018-11-11 15:20:00+00</td>\n      <td>40.801230</td>\n      <td>-73.957700</td>\n      <td>Manhattan</td>\n      <td>10026.0</td>\n      <td>...</td>\n      <td>1</td>\n      <td>0</td>\n      <td>0</td>\n      <td>0</td>\n      <td>0</td>\n      <td>0</td>\n      <td>1</td>\n      <td>0</td>\n      <td>Unspecified,Unspecified</td>\n      <td>Sedan,Bike</td>\n    </tr>\n    <tr>\n      <th>2</th>\n      <td>0101000020E61000005166834C327C52C091D26C1E8765...</td>\n      <td>2333947</td>\n      <td>3944536</td>\n      <td>EAST 110 STREET</td>\n      <td>NaN</td>\n      <td>2018-07-19 04:39:00+00</td>\n      <td>40.793186</td>\n      <td>-73.940570</td>\n      <td>Manhattan</td>\n      <td>NaN</td>\n      <td>...</td>\n      <td>0</td>\n      <td>0</td>\n      <td>1</td>\n      <td>1</td>\n      <td>0</td>\n      <td>0</td>\n      <td>1</td>\n      <td>1</td>\n      <td>Unsafe Speed</td>\n      <td>Motorcycle</td>\n    </tr>\n    <tr>\n      <th>3</th>\n      <td>0101000020E61000004B766C04E27752C08505F7031E60...</td>\n      <td>2470114</td>\n      <td>4079675</td>\n      <td>37 AVENUE</td>\n      <td>NaN</td>\n      <td>2019-02-12 13:10:00+00</td>\n      <td>40.750916</td>\n      <td>-73.873170</td>\n      <td>Queens</td>\n      <td>11372.0</td>\n      <td>...</td>\n      <td>0</td>\n      <td>0</td>\n      <td>1</td>\n      <td>0</td>\n      <td>0</td>\n      <td>0</td>\n      <td>1</td>\n      <td>0</td>\n      <td>Pavement Slippery,Driver Inattention/Distraction</td>\n      <td>Sedan,Sedan</td>\n    </tr>\n    <tr>\n      <th>4</th>\n      <td>NaN</td>\n      <td>2435640</td>\n      <td>4052363</td>\n      <td>MANHATTAN BR LOWER</td>\n      <td>NaN</td>\n      <td>2018-12-17 07:43:00+00</td>\n      <td>NaN</td>\n      <td>NaN</td>\n      <td>NaN</td>\n      <td>NaN</td>\n      <td>...</td>\n      <td>0</td>\n      <td>0</td>\n      <td>1</td>\n      <td>0</td>\n      <td>0</td>\n      <td>0</td>\n      <td>1</td>\n      <td>0</td>\n      <td>Driver Inattention/Distraction</td>\n      <td>Sedan</td>\n    </tr>\n    <tr>\n      <th>...</th>\n      <td>...</td>\n      <td>...</td>\n      <td>...</td>\n      <td>...</td>\n      <td>...</td>\n      <td>...</td>\n      <td>...</td>\n      <td>...</td>\n      <td>...</td>\n      <td>...</td>\n      <td>...</td>\n      <td>...</td>\n      <td>...</td>\n      <td>...</td>\n      <td>...</td>\n      <td>...</td>\n      <td>...</td>\n      <td>...</td>\n      <td>...</td>\n      <td>...</td>\n      <td>...</td>\n    </tr>\n    <tr>\n      <th>48891</th>\n      <td>0101000020E6100000E2E47E87A27252C0D89AADBCE459...</td>\n      <td>2271406</td>\n      <td>3886527</td>\n      <td>LIBERTY AVENUE</td>\n      <td>NaN</td>\n      <td>2018-04-21 21:22:00+00</td>\n      <td>40.702293</td>\n      <td>-73.791170</td>\n      <td>Queens</td>\n      <td>NaN</td>\n      <td>...</td>\n      <td>1</td>\n      <td>0</td>\n      <td>0</td>\n      <td>0</td>\n      <td>0</td>\n      <td>0</td>\n      <td>1</td>\n      <td>0</td>\n      <td>Alcohol Involvement,Unspecified</td>\n      <td>PICK-UP TRUCK,BICYCLE</td>\n    </tr>\n    <tr>\n      <th>48892</th>\n      <td>0101000020E6100000EB8B84B69C7952C0AFB0E07EC055...</td>\n      <td>2258539</td>\n      <td>3870330</td>\n      <td>BELMONT AVENUE</td>\n      <td>NaN</td>\n      <td>2018-03-24 15:10:00+00</td>\n      <td>40.669937</td>\n      <td>-73.900190</td>\n      <td>Brooklyn</td>\n      <td>11207.0</td>\n      <td>...</td>\n      <td>0</td>\n      <td>0</td>\n      <td>2</td>\n      <td>0</td>\n      <td>0</td>\n      <td>0</td>\n      <td>2</td>\n      <td>0</td>\n      <td>Failure to Yield Right-of-Way,Unspecified</td>\n      <td>TAXI,SPORT UTILITY / STATION WAGON</td>\n    </tr>\n    <tr>\n      <th>48893</th>\n      <td>0101000020E6100000116F9D7FBB7A52C0B875374F7568...</td>\n      <td>2410846</td>\n      <td>4018846</td>\n      <td>EAST 149 STREET</td>\n      <td>NaN</td>\n      <td>2018-11-09 17:00:00+00</td>\n      <td>40.816080</td>\n      <td>-73.917694</td>\n      <td>Bronx</td>\n      <td>10455.0</td>\n      <td>...</td>\n      <td>0</td>\n      <td>0</td>\n      <td>0</td>\n      <td>0</td>\n      <td>1</td>\n      <td>0</td>\n      <td>1</td>\n      <td>0</td>\n      <td>Unspecified</td>\n      <td>Sedan</td>\n    </tr>\n    <tr>\n      <th>48894</th>\n      <td>0101000020E6100000D595CFF23C7052C039622D3E054E...</td>\n      <td>2258839</td>\n      <td>3870254</td>\n      <td>BEACH CHANNEL DRIVE</td>\n      <td>NaN</td>\n      <td>2018-03-25 16:20:00+00</td>\n      <td>40.609535</td>\n      <td>-73.753720</td>\n      <td>Queens</td>\n      <td>11691.0</td>\n      <td>...</td>\n      <td>0</td>\n      <td>0</td>\n      <td>1</td>\n      <td>0</td>\n      <td>0</td>\n      <td>0</td>\n      <td>1</td>\n      <td>0</td>\n      <td>Driver Inattention/Distraction,Driver Inattent...</td>\n      <td>PASSENGER VEHICLE,SPORT UTILITY / STATION WAGON</td>\n    </tr>\n    <tr>\n      <th>48895</th>\n      <td>0101000020E610000097CADB114E7352C036E50AEF7265...</td>\n      <td>2409756</td>\n      <td>4018174</td>\n      <td>160 STREET</td>\n      <td>NaN</td>\n      <td>2018-11-10 00:30:00+00</td>\n      <td>40.792570</td>\n      <td>-73.801640</td>\n      <td>Queens</td>\n      <td>11357.0</td>\n      <td>...</td>\n      <td>0</td>\n      <td>0</td>\n      <td>2</td>\n      <td>0</td>\n      <td>0</td>\n      <td>0</td>\n      <td>2</td>\n      <td>0</td>\n      <td>Traffic Control Disregarded,Unspecified</td>\n      <td>Sedan</td>\n    </tr>\n  </tbody>\n</table>\n<p>48896 rows × 21 columns</p>\n</div>"
     },
     "metadata": {},
     "execution_count": 3
    }
   ],
   "source": [
    "accidents"
   ]
  },
  {
   "cell_type": "markdown",
   "metadata": {},
   "source": [
    "Loading a local file is just as easy:"
   ]
  },
  {
   "cell_type": "code",
   "execution_count": null,
   "metadata": {},
   "outputs": [],
   "source": [
    "accidents = pd.read_csv(\"accidents.csv\") # <- this is actually an older version of the same dataset we loaded from the web before\n",
    "accidents"
   ]
  },
  {
   "cell_type": "markdown",
   "metadata": {},
   "source": [
    "Let's check out the [data types](https://pandas.pydata.org/pandas-docs/stable/getting_started/basics.html#basics-dtypes) on our accidents data"
   ]
  },
  {
   "cell_type": "code",
   "execution_count": null,
   "metadata": {},
   "outputs": [],
   "source": [
    "accidents.dtypes"
   ]
  },
  {
   "cell_type": "markdown",
   "metadata": {},
   "source": [
    "Strings and the timestamp are stored as [objects](https://pandas.pydata.org/pandas-docs/stable/user_guide/categorical.html?highlight=object) – we'll fix that in a bit.\n",
    "\n",
    "Let's try to access parts of the accidents DataFrame. First, a single column. This will return a pandas [Series](https://pandas.pydata.org/pandas-docs/stable/reference/api/pandas.Series.html)."
   ]
  },
  {
   "cell_type": "code",
   "execution_count": null,
   "metadata": {},
   "outputs": [],
   "source": [
    "accidents['vehicle_types']"
   ]
  },
  {
   "cell_type": "markdown",
   "metadata": {},
   "source": [
    "Slicing rows – returns a new DataFrame:"
   ]
  },
  {
   "cell_type": "code",
   "execution_count": null,
   "metadata": {},
   "outputs": [],
   "source": [
    "accidents[2:10] # rows 2 to 9 (!)"
   ]
  },
  {
   "cell_type": "code",
   "execution_count": null,
   "metadata": {},
   "outputs": [],
   "source": [
    "accidents[2:]   # all rows from row 2"
   ]
  },
  {
   "cell_type": "code",
   "execution_count": null,
   "metadata": {},
   "outputs": [],
   "source": [
    "accidents[:10]  # all rows up to row 9"
   ]
  },
  {
   "cell_type": "markdown",
   "metadata": {},
   "source": [
    "### Using [.loc](https://pandas.pydata.org/pandas-docs/stable/reference/api/pandas.DataFrame.loc.html)"
   ]
  },
  {
   "cell_type": "code",
   "execution_count": null,
   "metadata": {},
   "outputs": [],
   "source": [
    "accidents.loc[3]"
   ]
  },
  {
   "cell_type": "markdown",
   "metadata": {},
   "source": [
    "Using .loc to pick columns:"
   ]
  },
  {
   "cell_type": "code",
   "execution_count": null,
   "metadata": {},
   "outputs": [],
   "source": [
    "accidents.loc[27:29, ['number_of_cyclist_injured', 'number_of_cyclist_killed']]"
   ]
  },
  {
   "cell_type": "markdown",
   "metadata": {},
   "source": [
    "### Using [.iloc](https://pandas.pydata.org/pandas-docs/stable/reference/api/pandas.DataFrame.iloc.html)\n",
    "\n",
    "... to get the same result. Notice how .loc and .iloc use different indexing – .loc is *inclusive* the last mentioned index (29 here), .iloc is *exlusive* (30 in this example). Here's a [good article](https://www.shanelynn.ie/select-pandas-dataframe-rows-and-columns-using-iloc-loc-and-ix/) comparing the different access methods."
   ]
  },
  {
   "cell_type": "code",
   "execution_count": null,
   "metadata": {},
   "outputs": [],
   "source": [
    "accidents.iloc[27:30, 11:13]"
   ]
  },
  {
   "cell_type": "markdown",
   "metadata": {},
   "source": [
    "### DataFrame indexes\n",
    "\n",
    "Each dataframe has an [index](https://pandas.pydata.org/pandas-docs/stable/user_guide/indexing.html#indexing). Initially, that's just a number for each row:"
   ]
  },
  {
   "cell_type": "code",
   "execution_count": null,
   "metadata": {},
   "outputs": [],
   "source": [
    "accidents.index"
   ]
  },
  {
   "cell_type": "markdown",
   "metadata": {},
   "source": [
    "Let's get an overview of the columns in the dataset (again)..."
   ]
  },
  {
   "cell_type": "code",
   "execution_count": null,
   "metadata": {},
   "outputs": [],
   "source": [
    "accidents.columns"
   ]
  },
  {
   "cell_type": "markdown",
   "metadata": {},
   "source": [
    "... and index the dataset by timestamp of the accident instead:"
   ]
  },
  {
   "cell_type": "code",
   "execution_count": null,
   "metadata": {},
   "outputs": [],
   "source": [
    "accidents.set_index(pd.to_datetime(accidents['date_time']), inplace=True)\n",
    "accidents.set_index(accidents.index.tz_localize(None), inplace=True)\n",
    "accidents.index"
   ]
  },
  {
   "cell_type": "markdown",
   "metadata": {},
   "source": [
    "Now we can easily query the accidents by date range:"
   ]
  },
  {
   "cell_type": "code",
   "execution_count": null,
   "metadata": {},
   "outputs": [],
   "source": [
    "accidents.loc['2019-01-01':'2019-02-01']"
   ]
  },
  {
   "cell_type": "markdown",
   "metadata": {},
   "source": [
    "How many accidents do we have per month of the year?"
   ]
  },
  {
   "cell_type": "code",
   "execution_count": null,
   "metadata": {},
   "outputs": [],
   "source": [
    "accidents.resample('M').sum()"
   ]
  },
  {
   "cell_type": "markdown",
   "metadata": {},
   "source": [
    "..and per hour?"
   ]
  },
  {
   "cell_type": "code",
   "execution_count": null,
   "metadata": {},
   "outputs": [],
   "source": [
    "accidents.resample('H').sum()  "
   ]
  },
  {
   "cell_type": "markdown",
   "metadata": {},
   "source": [
    "How many accidents are there on average per hour of the day?"
   ]
  },
  {
   "cell_type": "code",
   "execution_count": null,
   "metadata": {},
   "outputs": [],
   "source": [
    "hourly_accidents = accidents.resample('H').sum()\n",
    "hourly_accidents['hour'] = hourly_accidents.index.hour\n",
    "hourly_accidents.groupby(['hour']).mean()"
   ]
  },
  {
   "cell_type": "markdown",
   "metadata": {},
   "source": [
    "Let's plot this:"
   ]
  },
  {
   "cell_type": "code",
   "execution_count": null,
   "metadata": {},
   "outputs": [],
   "source": [
    "# you only need this one once – all plots from here on will be embedded in the notebook\n",
    "%matplotlib inline \n",
    "\n",
    "mean_hourly_accidents = hourly_accidents.groupby(['hour']).mean()\n",
    "mean_hourly_accidents.plot(y='crash_count')"
   ]
  },
  {
   "cell_type": "markdown",
   "metadata": {},
   "source": [
    "# 🏋 Exercise\n",
    "\n",
    "**Which month of the year has the [highest number](https://pandas.pydata.org/pandas-docs/stable/reference/api/pandas.DataFrame.max.html) of accidents?**"
   ]
  },
  {
   "cell_type": "code",
   "execution_count": null,
   "metadata": {},
   "outputs": [],
   "source": [
    "# your code here..."
   ]
  },
  {
   "cell_type": "markdown",
   "metadata": {},
   "source": [
    "### Boolean indexing\n",
    "\n",
    "With [boolean indexing](https://www.geeksforgeeks.org/boolean-indexing-in-pandas/), we can select rows where certain criterea (or combinations thereof) are true. As an example, let's select all accidents where cyclists have been injured:"
   ]
  },
  {
   "cell_type": "code",
   "execution_count": null,
   "metadata": {},
   "outputs": [],
   "source": [
    "accidents['number_of_cyclist_injured'] > 0"
   ]
  },
  {
   "cell_type": "markdown",
   "metadata": {},
   "source": [
    "Filter the dataframe using this boolean series:"
   ]
  },
  {
   "cell_type": "code",
   "execution_count": null,
   "metadata": {},
   "outputs": [],
   "source": [
    "accidents[accidents['number_of_cyclist_injured'] > 0]"
   ]
  },
  {
   "cell_type": "markdown",
   "metadata": {},
   "source": [
    "Combine multiple citeria:"
   ]
  },
  {
   "cell_type": "code",
   "execution_count": null,
   "metadata": {},
   "outputs": [],
   "source": [
    "accidents[(accidents['number_of_cyclist_injured'] > 0) | (accidents['number_of_cyclist_killed'] > 0)]"
   ]
  },
  {
   "cell_type": "markdown",
   "metadata": {},
   "source": [
    "Query using string matching:"
   ]
  },
  {
   "cell_type": "code",
   "execution_count": null,
   "metadata": {},
   "outputs": [],
   "source": [
    "accidents[accidents['vehicle_types'].str.contains('Taxi')]"
   ]
  },
  {
   "cell_type": "markdown",
   "metadata": {},
   "source": [
    "Ooops... Do we have null values in our ```vehicle_types``` column?"
   ]
  },
  {
   "cell_type": "code",
   "execution_count": null,
   "metadata": {},
   "outputs": [],
   "source": [
    "accidents[accidents['vehicle_types'].isnull()]"
   ]
  },
  {
   "cell_type": "markdown",
   "metadata": {},
   "source": [
    "Let's replace the NaN values with an empty string:"
   ]
  },
  {
   "cell_type": "code",
   "execution_count": null,
   "metadata": {},
   "outputs": [],
   "source": [
    "accidents.vehicle_types.fillna('', inplace=True)\n",
    "accidents[accidents['vehicle_types'].isnull()]"
   ]
  },
  {
   "cell_type": "markdown",
   "metadata": {},
   "source": [
    "Now this should work:"
   ]
  },
  {
   "cell_type": "code",
   "execution_count": null,
   "metadata": {},
   "outputs": [],
   "source": [
    "accidents[accidents['vehicle_types'].str.contains('Taxi')]"
   ]
  },
  {
   "cell_type": "markdown",
   "metadata": {},
   "source": [
    "Writing the filtered dataset to a CSV file:"
   ]
  },
  {
   "cell_type": "code",
   "execution_count": null,
   "metadata": {},
   "outputs": [],
   "source": [
    "taxi_accidents = accidents[accidents['vehicle_types'].str.contains('Taxi')]\n",
    "taxi_accidents.to_csv('taxi_accidents.csv')"
   ]
  },
  {
   "cell_type": "markdown",
   "metadata": {},
   "source": [
    "### Plotting and (simple) mapping"
   ]
  },
  {
   "cell_type": "code",
   "execution_count": null,
   "metadata": {},
   "outputs": [],
   "source": [
    "accidents.plot(x='longitude', \n",
    "               y='latitude', \n",
    "               kind='scatter')"
   ]
  },
  {
   "cell_type": "markdown",
   "metadata": {},
   "source": [
    "These accidents are all in NYC, so the dots at the top left and bottom right are clearly wrong coordinates. Let's remove them:"
   ]
  },
  {
   "cell_type": "code",
   "execution_count": null,
   "metadata": {},
   "outputs": [],
   "source": [
    "accidents = accidents[ (accidents['latitude'] > 30) & (accidents['longitude'] > -100)  ]\n",
    "accidents.plot.scatter(x='longitude', \n",
    "               y='latitude')"
   ]
  },
  {
   "cell_type": "markdown",
   "metadata": {},
   "source": [
    "Not very pretty, but it's a start. \n",
    "\n",
    "Let's make a fancy map now. See the docs for explanation of the [variables](https://pandas.pydata.org/pandas-docs/stable/reference/api/pandas.DataFrame.plot.html#pandas.DataFrame.plot) and [color scales](https://matplotlib.org/users/colormaps.html)."
   ]
  },
  {
   "cell_type": "code",
   "execution_count": null,
   "metadata": {},
   "outputs": [],
   "source": [
    "accidents[accidents['number_of_persons_injured'] > 0].plot.scatter(x='longitude', \n",
    "               y='latitude', \n",
    "               c='number_of_persons_injured',\n",
    "               s=0.7,\n",
    "               title='NYC accidents with injuries',                                                   \n",
    "               colormap='Wistia',\n",
    "               figsize=[14,14])"
   ]
  },
  {
   "cell_type": "markdown",
   "metadata": {},
   "source": [
    "Let's take a look at hexbins to identify potential hotspots:"
   ]
  },
  {
   "cell_type": "code",
   "execution_count": null,
   "metadata": {},
   "outputs": [],
   "source": [
    "accidents.plot.hexbin(x='longitude', \n",
    "               y='latitude',\n",
    "               figsize=[14,14])"
   ]
  },
  {
   "cell_type": "markdown",
   "metadata": {},
   "source": [
    "Let's make a KDE map using [Seaborn](https://seaborn.pydata.org). If you don't know what KDE is, here is an excellent interactive tutortial explaning the idea of [Kernel Density Estimation](https://mathisonian.github.io/kde/)."
   ]
  },
  {
   "cell_type": "code",
   "execution_count": null,
   "metadata": {},
   "outputs": [],
   "source": [
    "import matplotlib.pyplot as plt\n",
    "import seaborn as sns"
   ]
  },
  {
   "cell_type": "code",
   "execution_count": null,
   "metadata": {
    "scrolled": false
   },
   "outputs": [],
   "source": [
    "plt.figure(figsize=(14, 14))\n",
    "sns.kdeplot(accidents['longitude'], \n",
    "            accidents['latitude'],\n",
    "            cmap='Reds',\n",
    "            shade=True)\n",
    "plt.savefig('kde.pdf') # saves the plot to a PDF file in the same folder as this notebook \n",
    "                       # – this command has to go in the same cell that produces the plot!"
   ]
  },
  {
   "cell_type": "markdown",
   "metadata": {},
   "source": [
    "Let's get an overview of the accidents dataset:"
   ]
  },
  {
   "cell_type": "code",
   "execution_count": null,
   "metadata": {},
   "outputs": [],
   "source": [
    "accidents.describe()"
   ]
  },
  {
   "cell_type": "markdown",
   "metadata": {},
   "source": [
    "How does the distribution of monthly fatalities look like?"
   ]
  },
  {
   "cell_type": "code",
   "execution_count": null,
   "metadata": {},
   "outputs": [],
   "source": [
    "monthly_accidents = accidents.resample('M').sum()\n",
    "\n",
    "plt.figure(figsize=(14, 5))\n",
    "sns.boxplot(monthly_accidents['number_of_persons_killed'])"
   ]
  },
  {
   "cell_type": "markdown",
   "metadata": {},
   "source": [
    "🤔 How do you [read a box plot again](https://en.wikipedia.org/wiki/Box_plot#Visualization)? \n",
    "\n",
    "Let's make a distribution plot:"
   ]
  },
  {
   "cell_type": "code",
   "execution_count": null,
   "metadata": {},
   "outputs": [],
   "source": [
    "plt.figure(figsize=(14, 8))\n",
    "sns.distplot(monthly_accidents['number_of_persons_killed'])"
   ]
  },
  {
   "cell_type": "markdown",
   "metadata": {},
   "source": [
    "Scatter plot with fitted linear regression line:"
   ]
  },
  {
   "cell_type": "code",
   "execution_count": null,
   "metadata": {},
   "outputs": [],
   "source": [
    "sns.lmplot(x='number_of_persons_injured',y='number_of_persons_killed',data=monthly_accidents)"
   ]
  },
  {
   "cell_type": "markdown",
   "metadata": {},
   "source": [
    "# 🏋🏼‍♀️ Exercise\n",
    "\n",
    "Use the things we have discussed plus the corresponding documentation to accomplish the following tasks:\n",
    "\n",
    "1. Read this file from the [Uppsala Conflict Data Program](https://ucdp.uu.se): http://ucdp.uu.se/downloads/ged/ged181-csv.zip\n",
    "2. Create some maps of the conflicts to identify clusters.\n",
    "3. Aggregate the data in different ways, e.g. by type of violence or region, and create summary statistics.\n",
    "\n",
    "🤓 Have fun!"
   ]
  },
  {
   "cell_type": "code",
   "execution_count": null,
   "metadata": {},
   "outputs": [],
   "source": []
  },
  {
   "cell_type": "code",
   "execution_count": null,
   "metadata": {},
   "outputs": [],
   "source": []
  }
 ],
 "metadata": {
  "kernelspec": {
   "display_name": "Python 3",
   "language": "python",
   "name": "python3"
  },
  "language_info": {
   "codemirror_mode": {
    "name": "ipython",
    "version": 3
   },
   "file_extension": ".py",
   "mimetype": "text/x-python",
   "name": "python",
   "nbconvert_exporter": "python",
   "pygments_lexer": "ipython3",
   "version": "3.7.6-final"
  }
 },
 "nbformat": 4,
 "nbformat_minor": 2
}